{
 "cells": [
  {
   "metadata": {
    "ExecuteTime": {
     "end_time": "2024-10-22T09:47:22.445451Z",
     "start_time": "2024-10-22T09:42:09.051438Z"
    }
   },
   "cell_type": "code",
   "source": [
    "import numpy as np\n",
    "import struct\n",
    "from keras import layers, models\n",
    "from keras.api.optimizers import Adam\n",
    "from keras.api.callbacks import ReduceLROnPlateau, EarlyStopping\n",
    "\n",
    "\n",
    "# Function to read IDX files\n",
    "def read_idx(filename):\n",
    "    \"\"\"Read an IDX file and return a NumPy array.\"\"\"\n",
    "    with open(filename, 'rb') as f:\n",
    "        magic, num_items = struct.unpack('>II', f.read(8))\n",
    "        \n",
    "        if magic == 2051:  # Images magic number\n",
    "            rows, cols = struct.unpack('>II', f.read(8))  # Read image dimensions\n",
    "            return np.fromfile(f, dtype=np.uint8).reshape(num_items, rows, cols)\n",
    "        elif magic == 2049:  # Labels magic number\n",
    "            return np.fromfile(f, dtype=np.uint8).reshape(num_items, 1)\n",
    "        else:\n",
    "            raise ValueError(f\"Invalid magic number: {magic}\")\n",
    "\n",
    "\n",
    "# Load images and labels\n",
    "train_images = read_idx('./archive/train-images.idx3-ubyte')  # Path to your training images file\n",
    "train_labels = read_idx('./archive/train-labels.idx1-ubyte')  # Path to your training labels file\n",
    "\n",
    "# Normalize the images\n",
    "train_images = train_images.astype('float32') / 255.0  # Convert to float and normalize to [0, 1]\n",
    "\n",
    "\n",
    "# Build a Convolutional Neural Network (CNN)\n",
    "model = models.Sequential([\n",
    "    layers.Reshape((28, 28, 1), input_shape=(28, 28)),  \n",
    "    layers.Conv2D(32, (3, 3), activation='relu'),\n",
    "    layers.MaxPooling2D((2, 2)),\n",
    "    layers.Conv2D(64, (3, 3), activation='relu'),\n",
    "    layers.MaxPooling2D((2, 2)),\n",
    "    layers.Flatten(),\n",
    "    layers.Dense(128, activation='relu'),\n",
    "    layers.Dropout(0.5),\n",
    "    layers.Dense(10, activation='softmax')\n",
    "])\n",
    "\n",
    "# Set a custom learning rate and compile the model\n",
    "learning_rate = 0.00001  \n",
    "optimizer = Adam(learning_rate=learning_rate)\n",
    "model.compile(optimizer=optimizer,\n",
    "              loss='sparse_categorical_crossentropy',\n",
    "              metrics=['accuracy'])\n",
    "\n",
    "# Create callbacks for learning rate reduction and early stopping\n",
    "lr_scheduler = ReduceLROnPlateau(monitor='loss', factor=0.5, patience=2)\n",
    "early_stopping = EarlyStopping(monitor='val_loss', patience=3)\n",
    "\n",
    "# Train the model with validation split and callbacks\n",
    "model.fit(train_images.reshape(-1, 28, 28, 1), train_labels,\n",
    "          epochs=20,\n",
    "          batch_size=15,\n",
    "          validation_split=0.2,\n",
    "          callbacks=[lr_scheduler, early_stopping])\n",
    "\n",
    "\n",
    "\n",
    "model.save('mnist_model2.keras')\n",
    "\n"
   ],
   "id": "fccc88dac242ebd3",
   "outputs": [
    {
     "name": "stdout",
     "output_type": "stream",
     "text": [
      "Epoch 1/20\n",
      "\u001B[1m3200/3200\u001B[0m \u001B[32m━━━━━━━━━━━━━━━━━━━━\u001B[0m\u001B[37m\u001B[0m \u001B[1m14s\u001B[0m 4ms/step - accuracy: 0.4051 - loss: 1.9411 - val_accuracy: 0.8647 - val_loss: 0.6489 - learning_rate: 1.0000e-05\n",
      "Epoch 2/20\n",
      "\u001B[1m3200/3200\u001B[0m \u001B[32m━━━━━━━━━━━━━━━━━━━━\u001B[0m\u001B[37m\u001B[0m \u001B[1m13s\u001B[0m 4ms/step - accuracy: 0.7855 - loss: 0.7199 - val_accuracy: 0.9126 - val_loss: 0.3467 - learning_rate: 1.0000e-05\n",
      "Epoch 3/20\n",
      "\u001B[1m3200/3200\u001B[0m \u001B[32m━━━━━━━━━━━━━━━━━━━━\u001B[0m\u001B[37m\u001B[0m \u001B[1m13s\u001B[0m 4ms/step - accuracy: 0.8583 - loss: 0.4814 - val_accuracy: 0.9323 - val_loss: 0.2567 - learning_rate: 1.0000e-05\n",
      "Epoch 4/20\n",
      "\u001B[1m3200/3200\u001B[0m \u001B[32m━━━━━━━━━━━━━━━━━━━━\u001B[0m\u001B[37m\u001B[0m \u001B[1m14s\u001B[0m 4ms/step - accuracy: 0.8883 - loss: 0.3755 - val_accuracy: 0.9424 - val_loss: 0.2095 - learning_rate: 1.0000e-05\n",
      "Epoch 5/20\n",
      "\u001B[1m3200/3200\u001B[0m \u001B[32m━━━━━━━━━━━━━━━━━━━━\u001B[0m\u001B[37m\u001B[0m \u001B[1m16s\u001B[0m 5ms/step - accuracy: 0.9090 - loss: 0.3101 - val_accuracy: 0.9491 - val_loss: 0.1835 - learning_rate: 1.0000e-05\n",
      "Epoch 6/20\n",
      "\u001B[1m3200/3200\u001B[0m \u001B[32m━━━━━━━━━━━━━━━━━━━━\u001B[0m\u001B[37m\u001B[0m \u001B[1m16s\u001B[0m 5ms/step - accuracy: 0.9195 - loss: 0.2781 - val_accuracy: 0.9542 - val_loss: 0.1623 - learning_rate: 1.0000e-05\n",
      "Epoch 7/20\n",
      "\u001B[1m3200/3200\u001B[0m \u001B[32m━━━━━━━━━━━━━━━━━━━━\u001B[0m\u001B[37m\u001B[0m \u001B[1m16s\u001B[0m 5ms/step - accuracy: 0.9285 - loss: 0.2423 - val_accuracy: 0.9582 - val_loss: 0.1476 - learning_rate: 1.0000e-05\n",
      "Epoch 8/20\n",
      "\u001B[1m3200/3200\u001B[0m \u001B[32m━━━━━━━━━━━━━━━━━━━━\u001B[0m\u001B[37m\u001B[0m \u001B[1m16s\u001B[0m 5ms/step - accuracy: 0.9367 - loss: 0.2175 - val_accuracy: 0.9613 - val_loss: 0.1348 - learning_rate: 1.0000e-05\n",
      "Epoch 9/20\n",
      "\u001B[1m3200/3200\u001B[0m \u001B[32m━━━━━━━━━━━━━━━━━━━━\u001B[0m\u001B[37m\u001B[0m \u001B[1m16s\u001B[0m 5ms/step - accuracy: 0.9398 - loss: 0.2033 - val_accuracy: 0.9642 - val_loss: 0.1253 - learning_rate: 1.0000e-05\n",
      "Epoch 10/20\n",
      "\u001B[1m3200/3200\u001B[0m \u001B[32m━━━━━━━━━━━━━━━━━━━━\u001B[0m\u001B[37m\u001B[0m \u001B[1m16s\u001B[0m 5ms/step - accuracy: 0.9461 - loss: 0.1850 - val_accuracy: 0.9667 - val_loss: 0.1180 - learning_rate: 1.0000e-05\n",
      "Epoch 11/20\n",
      "\u001B[1m3200/3200\u001B[0m \u001B[32m━━━━━━━━━━━━━━━━━━━━\u001B[0m\u001B[37m\u001B[0m \u001B[1m16s\u001B[0m 5ms/step - accuracy: 0.9517 - loss: 0.1719 - val_accuracy: 0.9673 - val_loss: 0.1117 - learning_rate: 1.0000e-05\n",
      "Epoch 12/20\n",
      "\u001B[1m3200/3200\u001B[0m \u001B[32m━━━━━━━━━━━━━━━━━━━━\u001B[0m\u001B[37m\u001B[0m \u001B[1m16s\u001B[0m 5ms/step - accuracy: 0.9494 - loss: 0.1687 - val_accuracy: 0.9707 - val_loss: 0.1053 - learning_rate: 1.0000e-05\n",
      "Epoch 13/20\n",
      "\u001B[1m3200/3200\u001B[0m \u001B[32m━━━━━━━━━━━━━━━━━━━━\u001B[0m\u001B[37m\u001B[0m \u001B[1m16s\u001B[0m 5ms/step - accuracy: 0.9566 - loss: 0.1536 - val_accuracy: 0.9717 - val_loss: 0.1012 - learning_rate: 1.0000e-05\n",
      "Epoch 14/20\n",
      "\u001B[1m3200/3200\u001B[0m \u001B[32m━━━━━━━━━━━━━━━━━━━━\u001B[0m\u001B[37m\u001B[0m \u001B[1m16s\u001B[0m 5ms/step - accuracy: 0.9560 - loss: 0.1465 - val_accuracy: 0.9725 - val_loss: 0.0944 - learning_rate: 1.0000e-05\n",
      "Epoch 15/20\n",
      "\u001B[1m3200/3200\u001B[0m \u001B[32m━━━━━━━━━━━━━━━━━━━━\u001B[0m\u001B[37m\u001B[0m \u001B[1m16s\u001B[0m 5ms/step - accuracy: 0.9605 - loss: 0.1363 - val_accuracy: 0.9730 - val_loss: 0.0916 - learning_rate: 1.0000e-05\n",
      "Epoch 16/20\n",
      "\u001B[1m3200/3200\u001B[0m \u001B[32m━━━━━━━━━━━━━━━━━━━━\u001B[0m\u001B[37m\u001B[0m \u001B[1m16s\u001B[0m 5ms/step - accuracy: 0.9596 - loss: 0.1346 - val_accuracy: 0.9751 - val_loss: 0.0881 - learning_rate: 1.0000e-05\n",
      "Epoch 17/20\n",
      "\u001B[1m3200/3200\u001B[0m \u001B[32m━━━━━━━━━━━━━━━━━━━━\u001B[0m\u001B[37m\u001B[0m \u001B[1m16s\u001B[0m 5ms/step - accuracy: 0.9639 - loss: 0.1240 - val_accuracy: 0.9748 - val_loss: 0.0853 - learning_rate: 1.0000e-05\n",
      "Epoch 18/20\n",
      "\u001B[1m3200/3200\u001B[0m \u001B[32m━━━━━━━━━━━━━━━━━━━━\u001B[0m\u001B[37m\u001B[0m \u001B[1m16s\u001B[0m 5ms/step - accuracy: 0.9635 - loss: 0.1247 - val_accuracy: 0.9765 - val_loss: 0.0821 - learning_rate: 1.0000e-05\n",
      "Epoch 19/20\n",
      "\u001B[1m3200/3200\u001B[0m \u001B[32m━━━━━━━━━━━━━━━━━━━━\u001B[0m\u001B[37m\u001B[0m \u001B[1m16s\u001B[0m 5ms/step - accuracy: 0.9645 - loss: 0.1193 - val_accuracy: 0.9767 - val_loss: 0.0804 - learning_rate: 1.0000e-05\n",
      "Epoch 20/20\n",
      "\u001B[1m3200/3200\u001B[0m \u001B[32m━━━━━━━━━━━━━━━━━━━━\u001B[0m\u001B[37m\u001B[0m \u001B[1m16s\u001B[0m 5ms/step - accuracy: 0.9652 - loss: 0.1148 - val_accuracy: 0.9766 - val_loss: 0.0772 - learning_rate: 1.0000e-05\n"
     ]
    }
   ],
   "execution_count": 12
  },
  {
   "metadata": {
    "ExecuteTime": {
     "end_time": "2024-10-22T09:51:38.933970Z",
     "start_time": "2024-10-22T09:51:38.929670Z"
    }
   },
   "cell_type": "code",
   "source": [
    "from PIL import Image\n",
    "import matplotlib.pyplot as plt\n",
    "\n",
    "def preprocess_image(image_path):\n",
    "    # Load the image using PIL\n",
    "    img = Image.open(image_path).convert('L')  # Convert to grayscale\n",
    "    img = img.resize((28, 28))  # Resize to 28x28 pixels\n",
    "    img = np.array(img)  # Convert to numpy array\n",
    "    img = img / 255.0  # Normalize the pixel values (same as done for MNIST dataset)\n",
    "    plt.imshow(img, cmap='gray')\n",
    "    plt.axis('off')  # Hide axes\n",
    "    plt.title(\"Preprocessed Image\")  # Optional title\n",
    "    plt.show()  # Show the image\n",
    "    \n",
    "    # Reshape the image to match the input shape of the model\n",
    "    img = img.reshape(1, 28, 28)  # Model expects (1, 28, 28)\n",
    "    \n",
    "    return img"
   ],
   "id": "c4cbec8c4e8fb9bb",
   "outputs": [],
   "execution_count": 15
  },
  {
   "metadata": {
    "ExecuteTime": {
     "end_time": "2024-10-22T09:51:41.137659Z",
     "start_time": "2024-10-22T09:51:41.025450Z"
    }
   },
   "cell_type": "code",
   "source": [
    "test_image_path = './test_image/img.png' # Provide the path to your test image\n",
    "test_image = preprocess_image(test_image_path)\n",
    "test_result = model.predict(test_image)\n",
    "predicted_digit = np.argmax(test_result) \n",
    "print(f\"Predicted digit: {predicted_digit}\")"
   ],
   "id": "d991e36b2a1c6df6",
   "outputs": [
    {
     "data": {
      "text/plain": [
       "<Figure size 640x480 with 1 Axes>"
      ],
      "image/png": "[encoded data removed]"
     },
     "metadata": {},
     "output_type": "display_data"
    },
    {
     "name": "stdout",
     "output_type": "stream",
     "text": [
      "\u001B[1m1/1\u001B[0m \u001B[32m━━━━━━━━━━━━━━━━━━━━\u001B[0m\u001B[37m\u001B[0m \u001B[1m0s\u001B[0m 16ms/step\n",
      "Predicted digit: 8\n"
     ]
    }
   ],
   "execution_count": 16
  },
  {
   "metadata": {},
   "cell_type": "code",
   "outputs": [],
   "execution_count": null,
   "source": "",
   "id": "8ffce1d65c6420af"
  }
 ],
 "metadata": {
  "kernelspec": {
   "display_name": "Python 3",
   "language": "python",
   "name": "python3"
  },
  "language_info": {
   "codemirror_mode": {
    "name": "ipython",
    "version": 2
   },
   "file_extension": ".py",
   "mimetype": "text/x-python",
   "name": "python",
   "nbconvert_exporter": "python",
   "pygments_lexer": "ipython2",
   "version": "2.7.6"
  }
 },
 "nbformat": 4,
 "nbformat_minor": 5
}
