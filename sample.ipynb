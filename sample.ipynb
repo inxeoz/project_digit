{
 "cells": [
  {
   "metadata": {},
   "cell_type": "markdown",
   "source": [
    "# This is a sample Jupyter Notebook\n",
    "\n",
    "Below is an example of a code cell. \n",
    "Put your cursor into the cell and press Shift+Enter to execute it and select the next one, or click 'Run Cell' button.\n",
    "\n",
    "Press Double Shift to search everywhere for classes, files, tool windows, actions, and settings.\n",
    "\n",
    "To learn more about Jupyter Notebooks in PyCharm, see [help](https://www.jetbrains.com/help/pycharm/ipython-notebook-support.html).\n",
    "For an overview of PyCharm, go to Help -> Learn IDE features or refer to [our documentation](https://www.jetbrains.com/help/pycharm/getting-started.html)."
   ],
   "id": "8a77807f92f26ee"
  },
  {
   "metadata": {
    "ExecuteTime": {
     "end_time": "2024-10-22T08:45:16.077989Z",
     "start_time": "2024-10-22T08:43:32.702932Z"
    }
   },
   "cell_type": "code",
   "source": [
    "from keras import layers, models, datasets\n",
    "\n",
    "# Load and prepare the MNIST dataset\n",
    "mnist = datasets.mnist\n",
    "(train_images, train_labels), (test_images, test_labels) = mnist.load_data()\n",
    "\n",
    "# Normalize the images\n",
    "train_images = train_images / 255.0\n",
    "test_images = test_images / 255.0\n",
    "\n",
    "# Build the model using Input layer\n",
    "model = models.Sequential([\n",
    "    layers.Input(shape=(28, 28)),  # Use Input layer for specifying input shape\n",
    "    layers.Flatten(),  # Flatten the input image\n",
    "    layers.Dense(128, activation='relu'),  # Dense hidden layer\n",
    "    layers.Dropout(0.2),  # Dropout for regularization\n",
    "    layers.Dense(10, activation='softmax')  # Output layer for 10 classes (0-9)\n",
    "])\n",
    "\n",
    "# Compile the model\n",
    "model.compile(optimizer='adam',\n",
    "              loss='sparse_categorical_crossentropy',\n",
    "              metrics=['accuracy'])\n",
    "\n",
    "# Train the model\n",
    "model.fit(train_images, train_labels, epochs=40)\n",
    "\n",
    "# Evaluate the model\n",
    "model.evaluate(test_images, test_labels, verbose=2)\n"
   ],
   "id": "d62b9329985e7808",
   "outputs": [
    {
     "name": "stdout",
     "output_type": "stream",
     "text": [
      "Epoch 1/40\n",
      "\u001B[1m1875/1875\u001B[0m \u001B[32m━━━━━━━━━━━━━━━━━━━━\u001B[0m\u001B[37m\u001B[0m \u001B[1m2s\u001B[0m 1ms/step - accuracy: 0.8608 - loss: 0.4789\n",
      "Epoch 2/40\n",
      "\u001B[1m1875/1875\u001B[0m \u001B[32m━━━━━━━━━━━━━━━━━━━━\u001B[0m\u001B[37m\u001B[0m \u001B[1m2s\u001B[0m 1ms/step - accuracy: 0.9537 - loss: 0.1559\n",
      "Epoch 3/40\n",
      "\u001B[1m1875/1875\u001B[0m \u001B[32m━━━━━━━━━━━━━━━━━━━━\u001B[0m\u001B[37m\u001B[0m \u001B[1m2s\u001B[0m 1ms/step - accuracy: 0.9667 - loss: 0.1078\n",
      "Epoch 4/40\n",
      "\u001B[1m1875/1875\u001B[0m \u001B[32m━━━━━━━━━━━━━━━━━━━━\u001B[0m\u001B[37m\u001B[0m \u001B[1m2s\u001B[0m 1ms/step - accuracy: 0.9739 - loss: 0.0837\n",
      "Epoch 5/40\n",
      "\u001B[1m1875/1875\u001B[0m \u001B[32m━━━━━━━━━━━━━━━━━━━━\u001B[0m\u001B[37m\u001B[0m \u001B[1m2s\u001B[0m 1ms/step - accuracy: 0.9785 - loss: 0.0692\n",
      "Epoch 6/40\n",
      "\u001B[1m1875/1875\u001B[0m \u001B[32m━━━━━━━━━━━━━━━━━━━━\u001B[0m\u001B[37m\u001B[0m \u001B[1m2s\u001B[0m 1ms/step - accuracy: 0.9808 - loss: 0.0635\n",
      "Epoch 7/40\n",
      "\u001B[1m1875/1875\u001B[0m \u001B[32m━━━━━━━━━━━━━━━━━━━━\u001B[0m\u001B[37m\u001B[0m \u001B[1m3s\u001B[0m 1ms/step - accuracy: 0.9822 - loss: 0.0548\n",
      "Epoch 8/40\n",
      "\u001B[1m1875/1875\u001B[0m \u001B[32m━━━━━━━━━━━━━━━━━━━━\u001B[0m\u001B[37m\u001B[0m \u001B[1m3s\u001B[0m 1ms/step - accuracy: 0.9840 - loss: 0.0488\n",
      "Epoch 9/40\n",
      "\u001B[1m1875/1875\u001B[0m \u001B[32m━━━━━━━━━━━━━━━━━━━━\u001B[0m\u001B[37m\u001B[0m \u001B[1m3s\u001B[0m 1ms/step - accuracy: 0.9861 - loss: 0.0425\n",
      "Epoch 10/40\n",
      "\u001B[1m1875/1875\u001B[0m \u001B[32m━━━━━━━━━━━━━━━━━━━━\u001B[0m\u001B[37m\u001B[0m \u001B[1m3s\u001B[0m 1ms/step - accuracy: 0.9865 - loss: 0.0399\n",
      "Epoch 11/40\n",
      "\u001B[1m1875/1875\u001B[0m \u001B[32m━━━━━━━━━━━━━━━━━━━━\u001B[0m\u001B[37m\u001B[0m \u001B[1m3s\u001B[0m 1ms/step - accuracy: 0.9886 - loss: 0.0346\n",
      "Epoch 12/40\n",
      "\u001B[1m1875/1875\u001B[0m \u001B[32m━━━━━━━━━━━━━━━━━━━━\u001B[0m\u001B[37m\u001B[0m \u001B[1m3s\u001B[0m 1ms/step - accuracy: 0.9888 - loss: 0.0344\n",
      "Epoch 13/40\n",
      "\u001B[1m1875/1875\u001B[0m \u001B[32m━━━━━━━━━━━━━━━━━━━━\u001B[0m\u001B[37m\u001B[0m \u001B[1m3s\u001B[0m 1ms/step - accuracy: 0.9892 - loss: 0.0331\n",
      "Epoch 14/40\n",
      "\u001B[1m1875/1875\u001B[0m \u001B[32m━━━━━━━━━━━━━━━━━━━━\u001B[0m\u001B[37m\u001B[0m \u001B[1m3s\u001B[0m 1ms/step - accuracy: 0.9892 - loss: 0.0311\n",
      "Epoch 15/40\n",
      "\u001B[1m1875/1875\u001B[0m \u001B[32m━━━━━━━━━━━━━━━━━━━━\u001B[0m\u001B[37m\u001B[0m \u001B[1m3s\u001B[0m 1ms/step - accuracy: 0.9895 - loss: 0.0309\n",
      "Epoch 16/40\n",
      "\u001B[1m1875/1875\u001B[0m \u001B[32m━━━━━━━━━━━━━━━━━━━━\u001B[0m\u001B[37m\u001B[0m \u001B[1m3s\u001B[0m 1ms/step - accuracy: 0.9905 - loss: 0.0296\n",
      "Epoch 17/40\n",
      "\u001B[1m1875/1875\u001B[0m \u001B[32m━━━━━━━━━━━━━━━━━━━━\u001B[0m\u001B[37m\u001B[0m \u001B[1m3s\u001B[0m 1ms/step - accuracy: 0.9899 - loss: 0.0274\n",
      "Epoch 18/40\n",
      "\u001B[1m1875/1875\u001B[0m \u001B[32m━━━━━━━━━━━━━━━━━━━━\u001B[0m\u001B[37m\u001B[0m \u001B[1m3s\u001B[0m 1ms/step - accuracy: 0.9897 - loss: 0.0291\n",
      "Epoch 19/40\n",
      "\u001B[1m1875/1875\u001B[0m \u001B[32m━━━━━━━━━━━━━━━━━━━━\u001B[0m\u001B[37m\u001B[0m \u001B[1m3s\u001B[0m 1ms/step - accuracy: 0.9924 - loss: 0.0226\n",
      "Epoch 20/40\n",
      "\u001B[1m1875/1875\u001B[0m \u001B[32m━━━━━━━━━━━━━━━━━━━━\u001B[0m\u001B[37m\u001B[0m \u001B[1m3s\u001B[0m 1ms/step - accuracy: 0.9917 - loss: 0.0227\n",
      "Epoch 21/40\n",
      "\u001B[1m1875/1875\u001B[0m \u001B[32m━━━━━━━━━━━━━━━━━━━━\u001B[0m\u001B[37m\u001B[0m \u001B[1m3s\u001B[0m 1ms/step - accuracy: 0.9917 - loss: 0.0238\n",
      "Epoch 22/40\n",
      "\u001B[1m1875/1875\u001B[0m \u001B[32m━━━━━━━━━━━━━━━━━━━━\u001B[0m\u001B[37m\u001B[0m \u001B[1m3s\u001B[0m 1ms/step - accuracy: 0.9918 - loss: 0.0230\n",
      "Epoch 23/40\n",
      "\u001B[1m1875/1875\u001B[0m \u001B[32m━━━━━━━━━━━━━━━━━━━━\u001B[0m\u001B[37m\u001B[0m \u001B[1m2s\u001B[0m 1ms/step - accuracy: 0.9920 - loss: 0.0245\n",
      "Epoch 24/40\n",
      "\u001B[1m1875/1875\u001B[0m \u001B[32m━━━━━━━━━━━━━━━━━━━━\u001B[0m\u001B[37m\u001B[0m \u001B[1m2s\u001B[0m 1ms/step - accuracy: 0.9920 - loss: 0.0216\n",
      "Epoch 25/40\n",
      "\u001B[1m1875/1875\u001B[0m \u001B[32m━━━━━━━━━━━━━━━━━━━━\u001B[0m\u001B[37m\u001B[0m \u001B[1m2s\u001B[0m 1ms/step - accuracy: 0.9928 - loss: 0.0197\n",
      "Epoch 26/40\n",
      "\u001B[1m1875/1875\u001B[0m \u001B[32m━━━━━━━━━━━━━━━━━━━━\u001B[0m\u001B[37m\u001B[0m \u001B[1m3s\u001B[0m 1ms/step - accuracy: 0.9925 - loss: 0.0215\n",
      "Epoch 27/40\n",
      "\u001B[1m1875/1875\u001B[0m \u001B[32m━━━━━━━━━━━━━━━━━━━━\u001B[0m\u001B[37m\u001B[0m \u001B[1m3s\u001B[0m 1ms/step - accuracy: 0.9933 - loss: 0.0198\n",
      "Epoch 28/40\n",
      "\u001B[1m1875/1875\u001B[0m \u001B[32m━━━━━━━━━━━━━━━━━━━━\u001B[0m\u001B[37m\u001B[0m \u001B[1m3s\u001B[0m 1ms/step - accuracy: 0.9925 - loss: 0.0213\n",
      "Epoch 29/40\n",
      "\u001B[1m1875/1875\u001B[0m \u001B[32m━━━━━━━━━━━━━━━━━━━━\u001B[0m\u001B[37m\u001B[0m \u001B[1m3s\u001B[0m 2ms/step - accuracy: 0.9933 - loss: 0.0194\n",
      "Epoch 30/40\n",
      "\u001B[1m1875/1875\u001B[0m \u001B[32m━━━━━━━━━━━━━━━━━━━━\u001B[0m\u001B[37m\u001B[0m \u001B[1m3s\u001B[0m 1ms/step - accuracy: 0.9935 - loss: 0.0185\n",
      "Epoch 31/40\n",
      "\u001B[1m1875/1875\u001B[0m \u001B[32m━━━━━━━━━━━━━━━━━━━━\u001B[0m\u001B[37m\u001B[0m \u001B[1m2s\u001B[0m 1ms/step - accuracy: 0.9935 - loss: 0.0187\n",
      "Epoch 32/40\n",
      "\u001B[1m1875/1875\u001B[0m \u001B[32m━━━━━━━━━━━━━━━━━━━━\u001B[0m\u001B[37m\u001B[0m \u001B[1m3s\u001B[0m 1ms/step - accuracy: 0.9942 - loss: 0.0174\n",
      "Epoch 33/40\n",
      "\u001B[1m1875/1875\u001B[0m \u001B[32m━━━━━━━━━━━━━━━━━━━━\u001B[0m\u001B[37m\u001B[0m \u001B[1m3s\u001B[0m 1ms/step - accuracy: 0.9938 - loss: 0.0175\n",
      "Epoch 34/40\n",
      "\u001B[1m1875/1875\u001B[0m \u001B[32m━━━━━━━━━━━━━━━━━━━━\u001B[0m\u001B[37m\u001B[0m \u001B[1m3s\u001B[0m 1ms/step - accuracy: 0.9936 - loss: 0.0174\n",
      "Epoch 35/40\n",
      "\u001B[1m1875/1875\u001B[0m \u001B[32m━━━━━━━━━━━━━━━━━━━━\u001B[0m\u001B[37m\u001B[0m \u001B[1m3s\u001B[0m 1ms/step - accuracy: 0.9949 - loss: 0.0149\n",
      "Epoch 36/40\n",
      "\u001B[1m1875/1875\u001B[0m \u001B[32m━━━━━━━━━━━━━━━━━━━━\u001B[0m\u001B[37m\u001B[0m \u001B[1m3s\u001B[0m 1ms/step - accuracy: 0.9939 - loss: 0.0168\n",
      "Epoch 37/40\n",
      "\u001B[1m1875/1875\u001B[0m \u001B[32m━━━━━━━━━━━━━━━━━━━━\u001B[0m\u001B[37m\u001B[0m \u001B[1m3s\u001B[0m 1ms/step - accuracy: 0.9939 - loss: 0.0176\n",
      "Epoch 38/40\n",
      "\u001B[1m1875/1875\u001B[0m \u001B[32m━━━━━━━━━━━━━━━━━━━━\u001B[0m\u001B[37m\u001B[0m \u001B[1m3s\u001B[0m 2ms/step - accuracy: 0.9942 - loss: 0.0158\n",
      "Epoch 39/40\n",
      "\u001B[1m1875/1875\u001B[0m \u001B[32m━━━━━━━━━━━━━━━━━━━━\u001B[0m\u001B[37m\u001B[0m \u001B[1m3s\u001B[0m 1ms/step - accuracy: 0.9947 - loss: 0.0146\n",
      "Epoch 40/40\n",
      "\u001B[1m1875/1875\u001B[0m \u001B[32m━━━━━━━━━━━━━━━━━━━━\u001B[0m\u001B[37m\u001B[0m \u001B[1m3s\u001B[0m 1ms/step - accuracy: 0.9943 - loss: 0.0165\n",
      "313/313 - 0s - 710us/step - accuracy: 0.9805 - loss: 0.1055\n"
     ]
    },
    {
     "data": {
      "text/plain": [
       "[0.10551467537879944, 0.9804999828338623]"
      ]
     },
     "execution_count": 61,
     "metadata": {},
     "output_type": "execute_result"
    }
   ],
   "execution_count": 61
  },
  {
   "metadata": {
    "ExecuteTime": {
     "end_time": "2024-10-22T08:54:02.632369Z",
     "start_time": "2024-10-22T08:54:02.610680Z"
    }
   },
   "cell_type": "code",
   "source": "model.save('my_model.keras')\n",
   "id": "9464d8e0aa50f574",
   "outputs": [],
   "execution_count": 62
  },
  {
   "metadata": {
    "ExecuteTime": {
     "end_time": "2024-10-22T08:54:05.027645Z",
     "start_time": "2024-10-22T08:54:05.023484Z"
    }
   },
   "cell_type": "code",
   "source": [
    "\n",
    "import numpy as np\n",
    "from PIL import Image\n",
    "from keras.api.models import load_model"
   ],
   "id": "938b4d540ca3ed26",
   "outputs": [],
   "execution_count": 63
  },
  {
   "metadata": {
    "ExecuteTime": {
     "end_time": "2024-10-22T08:54:06.747841Z",
     "start_time": "2024-10-22T08:54:06.744923Z"
    }
   },
   "cell_type": "code",
   "source": [
    "# Function to preprocess the image\n",
    "def preprocess_image(image_path):\n",
    "    # Load the image using PIL\n",
    "    img = Image.open(image_path).convert('L')  # Convert to grayscale\n",
    "    img = img.resize((28, 28))  # Resize to 28x28 pixels\n",
    "    img = np.array(img)  # Convert to numpy array\n",
    "    img = img / 255.0  # Normalize the pixel values (same as done for MNIST dataset)\n",
    "    \n",
    "    # Reshape the image to match the input shape of the model\n",
    "    img = img.reshape(1, 28, 28)  # Model expects (1, 28, 28)\n",
    "    \n",
    "    return img"
   ],
   "id": "7ec4953fba9ce300",
   "outputs": [],
   "execution_count": 64
  },
  {
   "metadata": {
    "ExecuteTime": {
     "end_time": "2024-10-22T08:54:08.147452Z",
     "start_time": "2024-10-22T08:54:08.136527Z"
    }
   },
   "cell_type": "code",
   "source": [
    "test_image_path = './test_image/img.png' # Provide the path to your test image\n",
    "test_image = preprocess_image(test_image_path)"
   ],
   "id": "35eae72bb362b643",
   "outputs": [],
   "execution_count": 65
  },
  {
   "metadata": {
    "ExecuteTime": {
     "end_time": "2024-10-22T08:54:09.957700Z",
     "start_time": "2024-10-22T08:54:09.868729Z"
    }
   },
   "cell_type": "code",
   "source": [
    "model = load_model('my_model.keras')\n",
    "predictions = model.predict(test_image)\n",
    "predicted_digit = np.argmax(predictions)  # Get the index of the highest probability (the predicted digit)\n"
   ],
   "id": "cad0e1960dd859cb",
   "outputs": [
    {
     "name": "stdout",
     "output_type": "stream",
     "text": [
      "\u001B[1m1/1\u001B[0m \u001B[32m━━━━━━━━━━━━━━━━━━━━\u001B[0m\u001B[37m\u001B[0m \u001B[1m0s\u001B[0m 24ms/step\n"
     ]
    }
   ],
   "execution_count": 66
  },
  {
   "metadata": {
    "ExecuteTime": {
     "end_time": "2024-10-22T08:54:11.397010Z",
     "start_time": "2024-10-22T08:54:11.392285Z"
    }
   },
   "cell_type": "code",
   "source": "print(f\"Predicted digit: {predicted_digit}\")",
   "id": "116f47d40c5f9304",
   "outputs": [
    {
     "name": "stdout",
     "output_type": "stream",
     "text": [
      "Predicted digit: 5\n"
     ]
    }
   ],
   "execution_count": 67
  },
  {
   "metadata": {
    "ExecuteTime": {
     "end_time": "2024-10-22T09:11:42.650108Z",
     "start_time": "2024-10-22T09:11:40.080402Z"
    }
   },
   "cell_type": "code",
   "source": [
    "from ubyte import decode_idx3_ubyte, decode_idx1_ubyte\n",
    "\n",
    "# Decode images\n",
    "images = decode_idx3_ubyte('./archive/train-images.idx3-ubyte')\n",
    "# Decode labels\n",
    "labels = decode_idx1_ubyte('./archive/train-labels.idx1-ubyte')\n",
    "\n",
    "print(images.shape)  # Should show (60000, 28, 28)\n",
    "print(labels.shape)  # Should show (60000,)\n"
   ],
   "id": "80d8b74a6743a9b2",
   "outputs": [
    {
     "name": "stdout",
     "output_type": "stream",
     "text": [
      "Getting platform type...\n",
      "Your computer's platform type is unix-type system .\n",
      "Start decoding train-images.idx3-ubyte (the complete directory is ./archive/train-images.idx3-ubyte.)\n",
      "Opening train-images.idx3-ubyte .\n",
      " Successfully opened train-images.idx3-ubyte,used time 0.026700 s.\n",
      "Decoding header information .\n",
      " Magic number: 2051,number of images: 60000,size of images: 28*28.\n",
      " Successfully decoded header information,used time 0.026813 s.\n",
      "Decoding main part.\n",
      " Decoded 1259 sheets,used time 0.100022 s,etc 4.666872 s.\n",
      " Decoded 10214 sheets,used time 0.500017 s,etc 2.437326 s.\n",
      " Decoded 15796 sheets,used time 0.700022 s,etc 1.959051 s.\n",
      " Decoded 18701 sheets,used time 0.800009 s,etc 1.766813 s.\n",
      " Decoded 21527 sheets,used time 0.900025 s,etc 1.608606 s.\n",
      " Decoded 24351 sheets,used time 1.000019 s,etc 1.464074 s.\n",
      " Decoded 27467 sheets,used time 1.100009 s,etc 1.302974 s.\n",
      " Decoded 30331 sheets,used time 1.200025 s,etc 1.173913 s.\n",
      " Decoded 35546 sheets,used time 1.400014 s,etc 0.963223 s.\n",
      " Decoded 41715 sheets,used time 1.600008 s,etc 0.701411 s.\n",
      " Decoded 44704 sheets,used time 1.700001 s,etc 0.581751 s.\n",
      " Decoded 47780 sheets,used time 1.800015 s,etc 0.460439 s.\n",
      " Decoded 50456 sheets,used time 1.900021 s,etc 0.359474 s.\n",
      " Decoded 53176 sheets,used time 2.000022 s,etc 0.256735 s.\n",
      " Decoded 56091 sheets,used time 2.100017 s,etc 0.146426 s.\n",
      " Successfully decoded main part,used time 2.241133 s.\n",
      "Successfully decoded train-images.idx3-ubyte,used time 2.241205 s.\n",
      "Getting platform type...\n",
      "Your computer's platform type is unix-type system .\n",
      "Start decoding train-labels.idx1-ubyte (the complete directory is ./archive/train-labels.idx1-ubyte.)\n",
      "Opening train-labels.idx1-ubyte.\n",
      " Successfully decoded header information,used time 0.000212 s.\n",
      "Decoding header information.\n",
      " Magic number: 2049,number of images: 60000.\n",
      " Successfully decoded header information,used time 0.000241 s.\n",
      "Decoding main part.\n",
      " Decoded 18285 sheets,used time 0.100004 s,etc 0.228158 s.\n",
      " Decoded 37403 sheets,used time 0.200000 s,etc 0.120841 s.\n",
      " Decoded 55630 sheets,used time 0.300003 s,etc 0.023577 s.\n",
      " Successfully decoded main part,used time 0.323782 s.\n",
      "Successfully decoded train-labels.idx1-ubyte,used time 0.323809 s.\n",
      "(60000, 28, 28)\n",
      "(60000,)\n"
     ]
    }
   ],
   "execution_count": 68
  },
  {
   "metadata": {},
   "cell_type": "code",
   "outputs": [],
   "execution_count": null,
   "source": "",
   "id": "da6254c8a618adf9"
  },
  {
   "metadata": {
    "ExecuteTime": {
     "end_time": "2024-10-22T09:15:43.443690Z",
     "start_time": "2024-10-22T09:15:43.230573Z"
    }
   },
   "cell_type": "code",
   "source": [
    "import numpy as np\n",
    "import matplotlib.pyplot as plt\n",
    "import struct\n",
    "\n",
    "def read_idx(filename):\n",
    "    \"\"\"Read an IDX file and return a NumPy array.\"\"\"\n",
    "    with open(filename, 'rb') as f:\n",
    "        # Read the magic number and dimensions\n",
    "        magic, num_items = struct.unpack('>II', f.read(8))\n",
    "        \n",
    "        # Check for magic number validity\n",
    "        if magic == 2051:  # Images magic number\n",
    "            rows, cols = struct.unpack('>II', f.read(8))  # Read image dimensions\n",
    "            return np.fromfile(f, dtype=np.uint8).reshape(num_items, rows, cols)\n",
    "        elif magic == 2049:  # Labels magic number\n",
    "            return np.fromfile(f, dtype=np.uint8).reshape(num_items, 1)\n",
    "        else:\n",
    "            raise ValueError(f\"Invalid magic number: {magic}\")\n",
    "\n",
    "# Load images and labels\n",
    "images = read_idx('./archive/train-images.idx3-ubyte')  # Path to your images file\n",
    "labels = read_idx('./archive/train-labels.idx1-ubyte')  # Path to your labels file\n",
    "\n",
    "# Display some images\n",
    "num_images = 10  # Number of images to display\n",
    "plt.figure(figsize=(10, 2))\n",
    "for i in range(num_images):\n",
    "    plt.subplot(1, num_images, i + 1)\n",
    "    plt.imshow(images[i], cmap='gray')  # images[i] is already reshaped to (28, 28)\n",
    "    plt.title(labels[i][0])  # Display the label\n",
    "    plt.axis('off')  # Hide axes\n",
    "\n",
    "plt.show()\n"
   ],
   "id": "53266e08b32243ba",
   "outputs": [
    {
     "data": {
      "text/plain": [
       "<Figure size 1000x200 with 10 Axes>"
      ],
      "image/png": "[encoded data removed]"
     },
     "metadata": {},
     "output_type": "display_data"
    }
   ],
   "execution_count": 72
  }
 ],
 "metadata": {
  "kernelspec": {
   "display_name": "Python 3",
   "language": "python",
   "name": "python3"
  },
  "language_info": {
   "codemirror_mode": {
    "name": "ipython",
    "version": 2
   },
   "file_extension": ".py",
   "mimetype": "text/x-python",
   "name": "python",
   "nbconvert_exporter": "python",
   "pygments_lexer": "ipython2",
   "version": "2.7.6"
  }
 },
 "nbformat": 4,
 "nbformat_minor": 5
}
